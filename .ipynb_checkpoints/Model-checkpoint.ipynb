{
 "cells": [
  {
   "cell_type": "code",
   "execution_count": 1,
   "id": "25779bd8",
   "metadata": {},
   "outputs": [],
   "source": [
    "import pandas as pd\n",
    "import numpy as np"
   ]
  },
  {
   "cell_type": "code",
   "execution_count": 2,
   "id": "1cca7762",
   "metadata": {},
   "outputs": [],
   "source": [
    "df = pd.read_csv('https://raw.githubusercontent.com/AADEESH27/Sentimental_Analyser/main/twitter-suicidal_data.csv')"
   ]
  },
  {
   "cell_type": "code",
   "execution_count": 3,
   "id": "4a765e9f",
   "metadata": {},
   "outputs": [
    {
     "data": {
      "text/html": [
       "<div>\n",
       "<style scoped>\n",
       "    .dataframe tbody tr th:only-of-type {\n",
       "        vertical-align: middle;\n",
       "    }\n",
       "\n",
       "    .dataframe tbody tr th {\n",
       "        vertical-align: top;\n",
       "    }\n",
       "\n",
       "    .dataframe thead th {\n",
       "        text-align: right;\n",
       "    }\n",
       "</style>\n",
       "<table border=\"1\" class=\"dataframe\">\n",
       "  <thead>\n",
       "    <tr style=\"text-align: right;\">\n",
       "      <th></th>\n",
       "      <th>tweet</th>\n",
       "      <th>intention</th>\n",
       "    </tr>\n",
       "  </thead>\n",
       "  <tbody>\n",
       "    <tr>\n",
       "      <th>0</th>\n",
       "      <td>my life is meaningless i just want to end my l...</td>\n",
       "      <td>1</td>\n",
       "    </tr>\n",
       "    <tr>\n",
       "      <th>1</th>\n",
       "      <td>muttering i wanna die to myself daily for a fe...</td>\n",
       "      <td>1</td>\n",
       "    </tr>\n",
       "    <tr>\n",
       "      <th>2</th>\n",
       "      <td>work slave i really feel like my only purpose ...</td>\n",
       "      <td>1</td>\n",
       "    </tr>\n",
       "    <tr>\n",
       "      <th>3</th>\n",
       "      <td>i did something on the 2 of october i overdose...</td>\n",
       "      <td>1</td>\n",
       "    </tr>\n",
       "    <tr>\n",
       "      <th>4</th>\n",
       "      <td>i feel like no one cares i just want to die ma...</td>\n",
       "      <td>1</td>\n",
       "    </tr>\n",
       "  </tbody>\n",
       "</table>\n",
       "</div>"
      ],
      "text/plain": [
       "                                               tweet  intention\n",
       "0  my life is meaningless i just want to end my l...          1\n",
       "1  muttering i wanna die to myself daily for a fe...          1\n",
       "2  work slave i really feel like my only purpose ...          1\n",
       "3  i did something on the 2 of october i overdose...          1\n",
       "4  i feel like no one cares i just want to die ma...          1"
      ]
     },
     "execution_count": 3,
     "metadata": {},
     "output_type": "execute_result"
    }
   ],
   "source": [
    "df.head()"
   ]
  },
  {
   "cell_type": "code",
   "execution_count": 4,
   "id": "d9384009",
   "metadata": {},
   "outputs": [
    {
     "data": {
      "text/plain": [
       "0    5121\n",
       "1    3998\n",
       "Name: intention, dtype: int64"
      ]
     },
     "execution_count": 4,
     "metadata": {},
     "output_type": "execute_result"
    }
   ],
   "source": [
    "df['intention'].value_counts()"
   ]
  },
  {
   "cell_type": "code",
   "execution_count": 5,
   "id": "98792dbf",
   "metadata": {},
   "outputs": [
    {
     "name": "stdout",
     "output_type": "stream",
     "text": [
      "Requirement already satisfied: spacy==2.2.3 in /home/aadeesh/.local/lib/python3.8/site-packages (2.2.3)\n",
      "Requirement already satisfied: cymem<2.1.0,>=2.0.2 in /home/aadeesh/.local/lib/python3.8/site-packages (from spacy==2.2.3) (2.0.6)\n",
      "Requirement already satisfied: thinc<7.4.0,>=7.3.0 in /home/aadeesh/.local/lib/python3.8/site-packages (from spacy==2.2.3) (7.3.1)\n",
      "Requirement already satisfied: plac<1.2.0,>=0.9.6 in /home/aadeesh/.local/lib/python3.8/site-packages (from spacy==2.2.3) (1.1.3)\n",
      "Requirement already satisfied: blis<0.5.0,>=0.4.0 in /home/aadeesh/.local/lib/python3.8/site-packages (from spacy==2.2.3) (0.4.1)\n",
      "Requirement already satisfied: catalogue<1.1.0,>=0.0.7 in /home/aadeesh/.local/lib/python3.8/site-packages (from spacy==2.2.3) (1.0.0)\n",
      "Requirement already satisfied: requests<3.0.0,>=2.13.0 in /usr/lib/python3/dist-packages (from spacy==2.2.3) (2.22.0)\n",
      "Requirement already satisfied: preshed<3.1.0,>=3.0.2 in /home/aadeesh/.local/lib/python3.8/site-packages (from spacy==2.2.3) (3.0.6)\n",
      "Requirement already satisfied: srsly<1.1.0,>=0.1.0 in /home/aadeesh/.local/lib/python3.8/site-packages (from spacy==2.2.3) (1.0.5)\n",
      "Requirement already satisfied: setuptools in /usr/lib/python3/dist-packages (from spacy==2.2.3) (45.2.0)\n",
      "Requirement already satisfied: murmurhash<1.1.0,>=0.28.0 in /home/aadeesh/.local/lib/python3.8/site-packages (from spacy==2.2.3) (1.0.6)\n",
      "Requirement already satisfied: numpy>=1.15.0 in /home/aadeesh/.local/lib/python3.8/site-packages (from spacy==2.2.3) (1.22.2)\n",
      "Requirement already satisfied: wasabi<1.1.0,>=0.4.0 in /home/aadeesh/.local/lib/python3.8/site-packages (from spacy==2.2.3) (0.9.0)\n",
      "Requirement already satisfied: tqdm<5.0.0,>=4.10.0 in /home/aadeesh/.local/lib/python3.8/site-packages (from thinc<7.4.0,>=7.3.0->spacy==2.2.3) (4.62.3)\n",
      "/bin/bash: python: command not found\n",
      "Requirement already satisfied: beautifulsoup4==4.9.1 in /home/aadeesh/.local/lib/python3.8/site-packages (4.9.1)\n",
      "Requirement already satisfied: soupsieve>1.2 in /home/aadeesh/.local/lib/python3.8/site-packages (from beautifulsoup4==4.9.1) (2.3.1)\n",
      "Requirement already satisfied: textblob==0.15.3 in /home/aadeesh/.local/lib/python3.8/site-packages (0.15.3)\n",
      "Requirement already satisfied: nltk>=3.1 in /home/aadeesh/.local/lib/python3.8/site-packages (from textblob==0.15.3) (3.7)\n",
      "Requirement already satisfied: joblib in /home/aadeesh/.local/lib/python3.8/site-packages (from nltk>=3.1->textblob==0.15.3) (1.1.0)\n",
      "Requirement already satisfied: click in /home/aadeesh/.local/lib/python3.8/site-packages (from nltk>=3.1->textblob==0.15.3) (8.0.3)\n",
      "Requirement already satisfied: tqdm in /home/aadeesh/.local/lib/python3.8/site-packages (from nltk>=3.1->textblob==0.15.3) (4.62.3)\n",
      "Requirement already satisfied: regex>=2021.8.3 in /home/aadeesh/.local/lib/python3.8/site-packages (from nltk>=3.1->textblob==0.15.3) (2022.1.18)\n"
     ]
    }
   ],
   "source": [
    "!pip install spacy==2.2.3\n",
    "!python -m spacy download en_core_web_sm\n",
    "!pip install beautifulsoup4==4.9.1\n",
    "!pip install textblob==0.15.3"
   ]
  },
  {
   "cell_type": "code",
   "execution_count": 6,
   "id": "f6b9a2e0",
   "metadata": {},
   "outputs": [
    {
     "name": "stdout",
     "output_type": "stream",
     "text": [
      "Collecting git+https://github.com/laxmimerit/preprocess_kgptalkie.git\n",
      "  Cloning https://github.com/laxmimerit/preprocess_kgptalkie.git to /tmp/pip-req-build-jz9vyg_i\n",
      "  Running command git clone -q https://github.com/laxmimerit/preprocess_kgptalkie.git /tmp/pip-req-build-jz9vyg_i\n",
      "Building wheels for collected packages: preprocess-kgptalkie\n",
      "  Building wheel for preprocess-kgptalkie (setup.py) ... \u001b[?25ldone\n",
      "\u001b[?25h  Created wheel for preprocess-kgptalkie: filename=preprocess_kgptalkie-0.1.3-py3-none-any.whl size=7633 sha256=a4868c0eb8743510083dd8380e94315ded69afa90466dea090cd67e010e4fa37\n",
      "  Stored in directory: /tmp/pip-ephem-wheel-cache-njz7vvhf/wheels/fd/71/47/e04f208ad659a295ccb69022e14de7d20ccc6fc30a5a935f09\n",
      "Successfully built preprocess-kgptalkie\n",
      "Installing collected packages: preprocess-kgptalkie\n",
      "  Attempting uninstall: preprocess-kgptalkie\n",
      "    Found existing installation: preprocess-kgptalkie 0.1.3\n",
      "    Uninstalling preprocess-kgptalkie-0.1.3:\n",
      "      Successfully uninstalled preprocess-kgptalkie-0.1.3\n",
      "Successfully installed preprocess-kgptalkie-0.1.3\n"
     ]
    }
   ],
   "source": [
    "!pip install git+https://github.com/laxmimerit/preprocess_kgptalkie.git --upgrade --force-reinstall"
   ]
  },
  {
   "cell_type": "code",
   "execution_count": 7,
   "id": "561493df",
   "metadata": {},
   "outputs": [],
   "source": [
    "import preprocess_kgptalkie as ps"
   ]
  },
  {
   "cell_type": "code",
   "execution_count": 8,
   "id": "99ad7453",
   "metadata": {},
   "outputs": [],
   "source": [
    "import re"
   ]
  },
  {
   "cell_type": "code",
   "execution_count": 9,
   "id": "b24f99bb",
   "metadata": {},
   "outputs": [],
   "source": [
    "def get_clean(x):\n",
    "    x = str(x).lower().replace('\\\\', '').replace('_', ' ')\n",
    "    x = ps.cont_exp(x)\n",
    "    x = ps.remove_emails(x)\n",
    "    x = ps.remove_urls(x)\n",
    "    x = ps.remove_html_tags(x)\n",
    "    x = ps.remove_rt(x)\n",
    "    x = ps.remove_accented_chars(x)\n",
    "    x = ps.remove_special_chars(x)\n",
    "    x = re.sub(\"(.)\\\\1{2,}\", \"\\\\1\", x)\n",
    "    return x"
   ]
  },
  {
   "cell_type": "code",
   "execution_count": 10,
   "id": "d63fab06",
   "metadata": {},
   "outputs": [
    {
     "name": "stdout",
     "output_type": "stream",
     "text": [
      "Requirement already satisfied: http-parser in /home/aadeesh/.local/lib/python3.8/site-packages (0.9.0)\r\n"
     ]
    }
   ],
   "source": [
    "!pip install http-parser"
   ]
  },
  {
   "cell_type": "code",
   "execution_count": 11,
   "id": "be7c1e68",
   "metadata": {},
   "outputs": [
    {
     "name": "stdout",
     "output_type": "stream",
     "text": [
      "Requirement already satisfied: lxml in /home/aadeesh/.local/lib/python3.8/site-packages (4.8.0)\r\n"
     ]
    }
   ],
   "source": [
    "!pip install lxml"
   ]
  },
  {
   "cell_type": "code",
   "execution_count": 12,
   "id": "368faeea",
   "metadata": {},
   "outputs": [],
   "source": [
    "df['tweet'] = df['tweet'].apply(lambda x: get_clean(x))"
   ]
  },
  {
   "cell_type": "markdown",
   "id": "46380757",
   "metadata": {},
   "source": [
    " TFIDF VECTORIZER"
   ]
  },
  {
   "cell_type": "code",
   "execution_count": null,
   "id": "467bd84e",
   "metadata": {},
   "outputs": [],
   "source": []
  }
 ],
 "metadata": {
  "kernelspec": {
   "display_name": "Python 3 (ipykernel)",
   "language": "python",
   "name": "python3"
  },
  "language_info": {
   "codemirror_mode": {
    "name": "ipython",
    "version": 3
   },
   "file_extension": ".py",
   "mimetype": "text/x-python",
   "name": "python",
   "nbconvert_exporter": "python",
   "pygments_lexer": "ipython3",
   "version": "3.8.10"
  }
 },
 "nbformat": 4,
 "nbformat_minor": 5
}
