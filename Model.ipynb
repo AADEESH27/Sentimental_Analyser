{
 "cells": [
  {
   "cell_type": "code",
   "execution_count": 1,
   "id": "08ee25dd",
   "metadata": {},
   "outputs": [],
   "source": [
    "import pandas as pd\n",
    "import numpy as np"
   ]
  },
  {
   "cell_type": "code",
   "execution_count": 2,
   "id": "6f8d357b",
   "metadata": {},
   "outputs": [],
   "source": [
    "dataSet = pd.read_csv('https://raw.githubusercontent.com/AADEESH27/Sentimental_Analyser/main/twitter-suicidal_data.csv')"
   ]
  },
  {
   "cell_type": "code",
   "execution_count": 7,
   "id": "d32354c1",
   "metadata": {},
   "outputs": [
    {
     "data": {
      "text/html": [
       "<div>\n",
       "<style scoped>\n",
       "    .dataframe tbody tr th:only-of-type {\n",
       "        vertical-align: middle;\n",
       "    }\n",
       "\n",
       "    .dataframe tbody tr th {\n",
       "        vertical-align: top;\n",
       "    }\n",
       "\n",
       "    .dataframe thead th {\n",
       "        text-align: right;\n",
       "    }\n",
       "</style>\n",
       "<table border=\"1\" class=\"dataframe\">\n",
       "  <thead>\n",
       "    <tr style=\"text-align: right;\">\n",
       "      <th></th>\n",
       "      <th>tweet</th>\n",
       "      <th>intention</th>\n",
       "    </tr>\n",
       "  </thead>\n",
       "  <tbody>\n",
       "    <tr>\n",
       "      <th>0</th>\n",
       "      <td>my life is meaningless i just want to end my l...</td>\n",
       "      <td>1</td>\n",
       "    </tr>\n",
       "    <tr>\n",
       "      <th>1</th>\n",
       "      <td>muttering i wanna die to myself daily for a fe...</td>\n",
       "      <td>1</td>\n",
       "    </tr>\n",
       "    <tr>\n",
       "      <th>2</th>\n",
       "      <td>work slave i really feel like my only purpose ...</td>\n",
       "      <td>1</td>\n",
       "    </tr>\n",
       "    <tr>\n",
       "      <th>3</th>\n",
       "      <td>i did something on the 2 of october i overdose...</td>\n",
       "      <td>1</td>\n",
       "    </tr>\n",
       "    <tr>\n",
       "      <th>4</th>\n",
       "      <td>i feel like no one cares i just want to die ma...</td>\n",
       "      <td>1</td>\n",
       "    </tr>\n",
       "  </tbody>\n",
       "</table>\n",
       "</div>"
      ],
      "text/plain": [
       "                                               tweet  intention\n",
       "0  my life is meaningless i just want to end my l...          1\n",
       "1  muttering i wanna die to myself daily for a fe...          1\n",
       "2  work slave i really feel like my only purpose ...          1\n",
       "3  i did something on the 2 of october i overdose...          1\n",
       "4  i feel like no one cares i just want to die ma...          1"
      ]
     },
     "execution_count": 7,
     "metadata": {},
     "output_type": "execute_result"
    }
   ],
   "source": [
    "dataSet.head()"
   ]
  },
  {
   "cell_type": "code",
   "execution_count": 8,
   "id": "7d19918c",
   "metadata": {},
   "outputs": [
    {
     "data": {
      "text/plain": [
       "0    5121\n",
       "1    3998\n",
       "Name: intention, dtype: int64"
      ]
     },
     "execution_count": 8,
     "metadata": {},
     "output_type": "execute_result"
    }
   ],
   "source": [
    "dataSet['intention'].value_counts()"
   ]
  },
  {
   "cell_type": "code",
   "execution_count": 9,
   "id": "14eb65c0",
   "metadata": {},
   "outputs": [
    {
     "data": {
      "text/plain": [
       "tweet                                                                                                                                                                                                                                                intention\n",
       "i dont want to die                                                                                                                                                                                                                                   0            165\n",
       "i hate reveluvs i hate them so much when i see them i just want to die i feel my blood boiling and my skin burning and my eyes watering my heart drops and i feel like fire is consuming my entire body why are they so evil and cruel i hate them   0             26\n",
       " clean me                                                                                                                                                                                                                                            0             18\n",
       "i want to die                                                                                                                                                                                                                                        1             17\n",
       "i hate reveluvs i hate them so much when i see them i just want to die i feel my blood boiling and my skin burning and my eyes watering my heart drops and i feel like fire is consuming my entire body why are they so evil and cruel i hate them   0             15\n",
       "                                                                                                                                                                                                                                                                 ... \n",
       "god i m so tired i haven t felt this run down in a long time                                                                                                                                                                                         0              1\n",
       "god i fucking want to die                                                                                                                                                                                                                            1              1\n",
       "goal and assists normal day at the office for my goat                                                                                                                                                                                                0              1\n",
       "go to work                                                                                                                                                                                                                                           0              1\n",
       "لم اكن بخير لفتره طويله ولكن لم يلاحظ احد ذلك                                                                                                                                                                                                        0              1\n",
       "Length: 8786, dtype: int64"
      ]
     },
     "execution_count": 9,
     "metadata": {},
     "output_type": "execute_result"
    }
   ],
   "source": [
    "dataSet.value_counts()"
   ]
  },
  {
   "cell_type": "code",
   "execution_count": null,
   "id": "14a5e96f",
   "metadata": {},
   "outputs": [],
   "source": []
  }
 ],
 "metadata": {
  "kernelspec": {
   "display_name": "Python 3 (ipykernel)",
   "language": "python",
   "name": "python3"
  },
  "language_info": {
   "codemirror_mode": {
    "name": "ipython",
    "version": 3
   },
   "file_extension": ".py",
   "mimetype": "text/x-python",
   "name": "python",
   "nbconvert_exporter": "python",
   "pygments_lexer": "ipython3",
   "version": "3.8.10"
  }
 },
 "nbformat": 4,
 "nbformat_minor": 5
}
